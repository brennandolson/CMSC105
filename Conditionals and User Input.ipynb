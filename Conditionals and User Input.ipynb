{
 "cells": [
  {
   "cell_type": "markdown",
   "metadata": {},
   "source": [
    "# Conditionals and User Input\n",
    "Python Crash Course, Chapters 5, 7\n",
    "***"
   ]
  },
  {
   "cell_type": "markdown",
   "metadata": {},
   "source": [
    "## if..."
   ]
  },
  {
   "cell_type": "markdown",
   "metadata": {},
   "source": [
    "We have already seen once or twice that Python can choose to execute some code or not, depending on some condition."
   ]
  },
  {
   "cell_type": "code",
   "execution_count": 71,
   "metadata": {},
   "outputs": [
    {
     "name": "stdout",
     "output_type": "stream",
     "text": [
      "You do not have sufficient funds for this transaction.\n"
     ]
    }
   ],
   "source": [
    "account_balance = 30.23\n",
    "cost = 499.99\n",
    "\n",
    "if account_balance < cost:\n",
    "    print (\"You do not have sufficient funds for this transaction.\")"
   ]
  },
  {
   "cell_type": "markdown",
   "metadata": {},
   "source": [
    "#### Pay attention to the `:` at the end of the `if` line. Without it, Python will crash!"
   ]
  },
  {
   "cell_type": "markdown",
   "metadata": {},
   "source": [
    "If the \"conditional\" that we evaluate is false, then the indented code will not run."
   ]
  },
  {
   "cell_type": "code",
   "execution_count": 72,
   "metadata": {},
   "outputs": [],
   "source": [
    "account_balance = 3000.23\n",
    "cost = 499.99\n",
    "\n",
    "if account_balance < cost:\n",
    "    print (\"You do not have sufficient funds for this transaction.\")"
   ]
  },
  {
   "cell_type": "markdown",
   "metadata": {},
   "source": [
    "This means that indenting matters. **The following two code blocks do different things.**"
   ]
  },
  {
   "cell_type": "code",
   "execution_count": 73,
   "metadata": {},
   "outputs": [],
   "source": [
    "# This code...\n",
    "username = \"password\"\n",
    "\n",
    "if len(username) > 8:\n",
    "    print (\"Please select a shorter username.\")\n",
    "    print (\"Thank you for playing.\")"
   ]
  },
  {
   "cell_type": "code",
   "execution_count": 74,
   "metadata": {},
   "outputs": [
    {
     "name": "stdout",
     "output_type": "stream",
     "text": [
      "Thank you for playing.\n"
     ]
    }
   ],
   "source": [
    "# ...is not the same as this code.\n",
    "username = \"password\"\n",
    "\n",
    "if len(username) > 8:\n",
    "    print (\"Please select a shorter username.\")\n",
    "print (\"Thank you for playing.\")"
   ]
  },
  {
   "cell_type": "markdown",
   "metadata": {},
   "source": [
    "This also means that the following code won't even run (this is my least favorite thing about Python)"
   ]
  },
  {
   "cell_type": "code",
   "execution_count": 75,
   "metadata": {},
   "outputs": [
    {
     "ename": "IndentationError",
     "evalue": "unexpected indent (<ipython-input-75-a44637b9c58d>, line 5)",
     "output_type": "error",
     "traceback": [
      "\u001b[0;36m  File \u001b[0;32m\"<ipython-input-75-a44637b9c58d>\"\u001b[0;36m, line \u001b[0;32m5\u001b[0m\n\u001b[0;31m    print (\"Get a parent's permission before logging on to disney.com\")\u001b[0m\n\u001b[0m    ^\u001b[0m\n\u001b[0;31mIndentationError\u001b[0m\u001b[0;31m:\u001b[0m unexpected indent\n"
     ]
    }
   ],
   "source": [
    "age = 32\n",
    "\n",
    "if age < 40:\n",
    "    print (\"Not old enough\")\n",
    "     print (\"Get a parent's permission before logging on to disney.com\")   "
   ]
  },
  {
   "cell_type": "markdown",
   "metadata": {},
   "source": [
    "The reason for the indentation is so that `if`'s can be nested unambiguously."
   ]
  },
  {
   "cell_type": "code",
   "execution_count": 79,
   "metadata": {},
   "outputs": [],
   "source": [
    "jeopardy_score = 2400\n",
    "\n",
    "if jeopardy_score <= 0:\n",
    "    print (\"You don't get to play final Jeopardy.\")\n",
    "    if jeopardy_score < 0:\n",
    "        print (\"In fact, you owe Trebek ${}\".format(-1 * jeopardy_score))\n",
    "    print (\"Better luck next time\")\n"
   ]
  },
  {
   "cell_type": "markdown",
   "metadata": {},
   "source": [
    "## Logical Operations"
   ]
  },
  {
   "cell_type": "markdown",
   "metadata": {},
   "source": [
    "We saw `and` and `or` last week. They typically show up when dealing with `if`."
   ]
  },
  {
   "cell_type": "code",
   "execution_count": 90,
   "metadata": {},
   "outputs": [
    {
     "name": "stdout",
     "output_type": "stream",
     "text": [
      "Valid Username\n"
     ]
    }
   ],
   "source": [
    "# How to enforce the following password rules?\n",
    "#   1. Between 8-16 characters (inclusive)\n",
    "#   2. Cannot include the following 3 things: \\ / .\n",
    "#   3. Cannot be \"admin\"\n",
    "\n",
    "username = \"prof dolson\"\n",
    "\n",
    "if len(username) >= 8 and len(username) <= 16 \\\n",
    "                      and \"/\" not in username \\\n",
    "                      and \"\\\\\" not in username\\\n",
    "                      and \".\" not in username \\\n",
    "                      and username != \"admin\" :\n",
    "    print (\"Valid Username\")"
   ]
  },
  {
   "cell_type": "markdown",
   "metadata": {},
   "source": [
    "## ...else"
   ]
  },
  {
   "cell_type": "markdown",
   "metadata": {},
   "source": [
    "Usually, we don't only want to take action when something is True. We also have some other action in mind for when it is False."
   ]
  },
  {
   "cell_type": "code",
   "execution_count": 92,
   "metadata": {},
   "outputs": [
    {
     "name": "stdout",
     "output_type": "stream",
     "text": [
      "You are now in the system.\n"
     ]
    }
   ],
   "source": [
    "user_list = \"brennan;admin;carl winslow;steve urkel\"\n",
    "desired_username = \"administrator\"\n",
    "\n",
    "if desired_username in user_list:\n",
    "    print (\"Username already exists. Please enter a new username.\")\n",
    "else:\n",
    "    user_list += \";\"+desired_username\n",
    "    print (\"You are now in the system.\")\n"
   ]
  },
  {
   "cell_type": "markdown",
   "metadata": {},
   "source": [
    "This makes it even more crucial to watch your indentation."
   ]
  },
  {
   "cell_type": "code",
   "execution_count": 94,
   "metadata": {},
   "outputs": [
    {
     "name": "stdout",
     "output_type": "stream",
     "text": [
      "even dollars\n"
     ]
    }
   ],
   "source": [
    "acct_balance = 1000\n",
    "\n",
    "if acct_balance > 0: \n",
    "    if acct_balance % 2 == 0:\n",
    "        print (\"even dollars\")\n",
    "        if acct_balance == 200:\n",
    "            print (\"You just passed go\")\n",
    "    else:\n",
    "        print (\"That's an odd amount of money.\")\n",
    "else: \n",
    "    print (\"Bad news.\")"
   ]
  },
  {
   "cell_type": "markdown",
   "metadata": {},
   "source": [
    "Learning to stare at a bunch of `if`-`else` logic and \"see\" what will happen when the code is run is an important skill. <br> Eventually, reading and writing logic like this will feel second-nature."
   ]
  },
  {
   "cell_type": "code",
   "execution_count": null,
   "metadata": {},
   "outputs": [],
   "source": [
    "# Q: What will this code output?\n",
    "\n",
    "phrase = 'top pot'\n",
    "\n",
    "if phrase == phrase[::-1]:\n",
    "    print ('\"{}\" is a palindrome...'.format(phrase))\n",
    "    if len(word) > 10:\n",
    "        print(\"...and a big one at that.\")\n",
    "    else:\n",
    "        print(\"...but not a very big one.\")\n",
    "else:\n",
    "    print('\"{}\" is not a palindrome.'.format(phrase))\n",
    "    \n",
    "print(\"Thanks for playing.\")"
   ]
  },
  {
   "cell_type": "code",
   "execution_count": null,
   "metadata": {},
   "outputs": [],
   "source": [
    "# Q: What should a, b, and c be set to in order to get the secret password.\n",
    "\n",
    "a = #???\n",
    "b = #???\n",
    "c = #???\n",
    "\n",
    "if min(a,b,c) < 0 or max(a,b,c) > 10:\n",
    "    print (\"nope\")\n",
    "else:\n",
    "    if (a==b) or (b==c) or (a==c):\n",
    "        print (\"nope\")\n",
    "    else:\n",
    "        if (a + c != 2 * b) or (a != 3):\n",
    "            print (\"nope\")\n",
    "        else:\n",
    "            # WANT TO GET HERE\n",
    "            print (''.join(map(chr, [0x50, 0x61, 0x73, 0x73, 0x77, 0x6f, 0x72, 0x64])))"
   ]
  },
  {
   "cell_type": "markdown",
   "metadata": {},
   "source": [
    "## ...elif..."
   ]
  },
  {
   "cell_type": "markdown",
   "metadata": {},
   "source": [
    "That last example got kind of hard to read. Luckily, there is one more conditional operator `elif`, which often makes things much cleaner to write out."
   ]
  },
  {
   "cell_type": "code",
   "execution_count": 95,
   "metadata": {},
   "outputs": [
    {
     "name": "stdout",
     "output_type": "stream",
     "text": [
      "A\n"
     ]
    }
   ],
   "source": [
    "grade = 93\n",
    "\n",
    "if grade >= 90:\n",
    "    print (\"A\")\n",
    "elif grade >= 80:\n",
    "    print (\"B\")\n",
    "elif grade >= 70:\n",
    "    print (\"C\")\n",
    "elif grade >= 60:\n",
    "    print (\"D\")\n",
    "else:\n",
    "    print (\"F\")"
   ]
  },
  {
   "cell_type": "markdown",
   "metadata": {},
   "source": [
    "Notice that the first time we hit a `True` in our conditionals, we immediately stop checking the others. <br>\n",
    "Otherwise, we would have printed `\"ABCD\"`."
   ]
  },
  {
   "cell_type": "code",
   "execution_count": null,
   "metadata": {},
   "outputs": [],
   "source": [
    "# Here is a more complete answer to Tuesday's math warmup\n",
    "a = 1\n",
    "b = 5\n",
    "c = 4\n",
    "\n",
    "desc = b**2 - 4 * a * c\n",
    "\n",
    "if desc < 0:\n",
    "    print (\"No roots exist\")\n",
    "elif desc == 0:\n",
    "    print (\"Double root at\", -b / (2 * a))\n",
    "else:\n",
    "    root1 = (-b + desc**0.5) / (2 * a)\n",
    "    root2 = (-b - desc**0.5) / (2 * a)\n",
    "    print (\"Roots at {} and {}\".format(root1, root2))"
   ]
  },
  {
   "cell_type": "markdown",
   "metadata": {},
   "source": [
    "## User Input"
   ]
  },
  {
   "cell_type": "markdown",
   "metadata": {},
   "source": [
    "Basically every program you use does more than just run its code and then quit. You interact with it, with \n",
    " - touchscreen\n",
    " - mouse\n",
    " - keyboard\n",
    " - voice\n",
    " - et cetera"
   ]
  },
  {
   "cell_type": "markdown",
   "metadata": {},
   "source": [
    "In this class, our programs will mostly interact with the user **via the keyboard**. <br>\n",
    "This is the most fundamental type of interaction, and definitely the easiest to use."
   ]
  },
  {
   "cell_type": "code",
   "execution_count": 96,
   "metadata": {},
   "outputs": [
    {
     "name": "stdout",
     "output_type": "stream",
     "text": [
      "Please enter your username: asdf\n"
     ]
    }
   ],
   "source": [
    "username = input(\"Please enter your username: \")"
   ]
  },
  {
   "cell_type": "markdown",
   "metadata": {},
   "source": [
    "The function `input()` returns whatever the user types in. <br>\n",
    "You usually want to save this as a variable."
   ]
  },
  {
   "cell_type": "code",
   "execution_count": 100,
   "metadata": {},
   "outputs": [
    {
     "name": "stdout",
     "output_type": "stream",
     "text": [
      "Please enter a passwordjk\n",
      "jk is a terrible password\n"
     ]
    }
   ],
   "source": [
    "password = input(\"Please enter a password\")\n",
    "\n",
    "print (\"{} is a terrible password\".format(password))"
   ]
  },
  {
   "cell_type": "markdown",
   "metadata": {},
   "source": [
    "### User input is always a string at first!\n",
    "It is up to you to tell Python if it should be treated any differently."
   ]
  },
  {
   "cell_type": "code",
   "execution_count": 98,
   "metadata": {},
   "outputs": [
    {
     "name": "stdout",
     "output_type": "stream",
     "text": [
      "Please enter an x-coordinate: 45\n",
      "Double your number is 4545\n",
      "Oops. Double your number is actually 90.0\n"
     ]
    }
   ],
   "source": [
    "number = input(\"Please enter an x-coordinate: \")\n",
    "\n",
    "print (\"Double your number is\", number * 2)\n",
    "\n",
    "print (\"Oops. Double your number is actually\", float(number) * 2)"
   ]
  },
  {
   "cell_type": "markdown",
   "metadata": {},
   "source": [
    "Here's what user interaction will look like for you..."
   ]
  }
 ],
 "metadata": {
  "kernelspec": {
   "display_name": "Python 3",
   "language": "python",
   "name": "python3"
  },
  "language_info": {
   "codemirror_mode": {
    "name": "ipython",
    "version": 3
   },
   "file_extension": ".py",
   "mimetype": "text/x-python",
   "name": "python",
   "nbconvert_exporter": "python",
   "pygments_lexer": "ipython3",
   "version": "3.7.3"
  }
 },
 "nbformat": 4,
 "nbformat_minor": 2
}
